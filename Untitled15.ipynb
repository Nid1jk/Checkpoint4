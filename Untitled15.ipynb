{
 "cells": [
  {
   "cell_type": "code",
   "execution_count": 40,
   "id": "a2afb392",
   "metadata": {},
   "outputs": [
    {
     "name": "stdout",
     "output_type": "stream",
     "text": [
      "6 is the biggest number\n"
     ]
    }
   ],
   "source": [
    "def kito(x,y,z):\n",
    "    if x>y and x>z:\n",
    "        print(x,'is the biggest number')\n",
    "    elif x>y and x<z:\n",
    "        print(z,'is the biggest number')\n",
    "    else:\n",
    "        print(y,'is the biggest number')\n",
    "kito(4,6,3)\n",
    "    "
   ]
  },
  {
   "cell_type": "code",
   "execution_count": 41,
   "id": "118c41e7",
   "metadata": {},
   "outputs": [
    {
     "data": {
      "text/plain": [
       "(50, 30)"
      ]
     },
     "execution_count": 41,
     "metadata": {},
     "output_type": "execute_result"
    }
   ],
   "source": [
    "def calculation(a,b):\n",
    "    x=a+b\n",
    "    y=a-b\n",
    "    return(x,y)\n",
    "calculation(40,10)"
   ]
  },
  {
   "cell_type": "code",
   "execution_count": 90,
   "id": "46a082d2",
   "metadata": {},
   "outputs": [
    {
     "name": "stdout",
     "output_type": "stream",
     "text": [
      "[1, 3, 5, 7] [2, 4, 6, 8]\n"
     ]
    },
    {
     "data": {
      "text/plain": [
       "20"
      ]
     },
     "execution_count": 90,
     "metadata": {},
     "output_type": "execute_result"
    }
   ],
   "source": [
    "aik=[1,2,3,4,5,6,7,8]\n",
    "a=[]\n",
    "ik=[]\n",
    "for i in aik:\n",
    "    if i%2==0:\n",
    "        a.append(i)\n",
    "    else:\n",
    "        ik.append(i)\n",
    "print(ik,a)\n",
    "def calcu(a):\n",
    "    return(sum(a))\n",
    "calcu(a)"
   ]
  },
  {
   "cell_type": "code",
   "execution_count": 88,
   "id": "e48c656c",
   "metadata": {},
   "outputs": [
    {
     "data": {
      "text/plain": [
       "105"
      ]
     },
     "execution_count": 88,
     "metadata": {},
     "output_type": "execute_result"
    }
   ],
   "source": [
    "def calcu2(ik):\n",
    "    h=1\n",
    "    for i in ik:\n",
    "        h=h*i\n",
    "    return(h)\n",
    "calcu2(ik)"
   ]
  },
  {
   "cell_type": "code",
   "execution_count": 89,
   "id": "03dd859b",
   "metadata": {},
   "outputs": [
    {
     "name": "stdout",
     "output_type": "stream",
     "text": [
      "20\n"
     ]
    }
   ],
   "source": [
    "x = 0\n",
    "for i in aik:\n",
    "    if i %2==0:\n",
    "        x=x+i\n",
    "print(x)"
   ]
  },
  {
   "cell_type": "code",
   "execution_count": 1,
   "id": "ec5caa22",
   "metadata": {},
   "outputs": [
    {
     "name": "stdout",
     "output_type": "stream",
     "text": [
      "enter your strings :black-red-green-yellow\n",
      "None\n"
     ]
    }
   ],
   "source": [
    "x=input(\"enter your strings :\")\n",
    "y=x.split('-')\n",
    "y.sort()"
   ]
  },
  {
   "cell_type": "code",
   "execution_count": null,
   "id": "5f0d2fd1",
   "metadata": {},
   "outputs": [],
   "source": []
  }
 ],
 "metadata": {
  "kernelspec": {
   "display_name": "Python 3 (ipykernel)",
   "language": "python",
   "name": "python3"
  },
  "language_info": {
   "codemirror_mode": {
    "name": "ipython",
    "version": 3
   },
   "file_extension": ".py",
   "mimetype": "text/x-python",
   "name": "python",
   "nbconvert_exporter": "python",
   "pygments_lexer": "ipython3",
   "version": "3.9.6"
  }
 },
 "nbformat": 4,
 "nbformat_minor": 5
}
